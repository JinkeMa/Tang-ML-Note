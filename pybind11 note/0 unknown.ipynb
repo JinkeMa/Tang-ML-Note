{
 "cells": [
  {
   "cell_type": "code",
   "execution_count": null,
   "metadata": {},
   "outputs": [],
   "source": [
    "'https://pybind11.readthedocs.io/en/stable/'"
   ]
  }
 ],
 "metadata": {
  "kernelspec": {
   "display_name": "pytorch",
   "language": "python",
   "name": "python3"
  },
  "language_info": {
   "name": "python",
   "version": "3.8.12 (default, Oct 12 2021, 03:01:40) [MSC v.1916 64 bit (AMD64)]"
  },
  "orig_nbformat": 4,
  "vscode": {
   "interpreter": {
    "hash": "0c12c839adeec326d421be117b103b29d3b0068db2c28a64ae1df63f05821871"
   }
  }
 },
 "nbformat": 4,
 "nbformat_minor": 2
}
