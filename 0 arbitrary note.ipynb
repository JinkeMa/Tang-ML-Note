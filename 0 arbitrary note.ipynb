{
 "cells": [
  {
   "cell_type": "code",
   "execution_count": null,
   "metadata": {},
   "outputs": [],
   "source": [
    "# 控制台...>cd d:\\GitRepos\\codeVCProjects 失败\n",
    "# 在输入上述命令并Enter之后，要再输入d:以切换盘符\n"
   ]
  },
  {
   "cell_type": "code",
   "execution_count": null,
   "metadata": {},
   "outputs": [],
   "source": [
    "\n",
    "'''python内置函数\n",
    "A\n",
    "abs() aiter() all() any() anext() ascii()\n",
    "\n",
    "B\n",
    "bin() bool() breakpoint() bytearray() bytes()\n",
    "\n",
    "C\n",
    "callable() chr() classmethod() compile() complex()\n",
    "\n",
    "D\n",
    "delattr() dict() dir() divmod()\n",
    "\n",
    "E\n",
    "enumerate() eval() exec()\n",
    "\n",
    "F\n",
    "filter() float() format() frozenset()\n",
    "\n",
    "G\n",
    "getattr() globals()\n",
    "\n",
    "H\n",
    "hasattr() hash() help() hex()\n",
    "\n",
    "I\n",
    "id() input() int() isinstance() issubclass() iter()\n",
    "L\n",
    "len() list() locals()\n",
    "\n",
    "M\n",
    "map() max() memoryview() min()\n",
    "\n",
    "N\n",
    "next()\n",
    "\n",
    "O\n",
    "object() oct() open() ord()\n",
    "\n",
    "P\n",
    "pow() print() property()\n",
    "\n",
    "R\n",
    "range() repr() reversed() round()\n",
    "\n",
    "S\n",
    "set() setattr() slice() sorted() staticmethod() str() sum() super()\n",
    "\n",
    "T\n",
    "tuple() type()\n",
    "\n",
    "V\n",
    "vars()\n",
    "\n",
    "Z\n",
    "zip()\n",
    "\n",
    "__import__()\n",
    "'''"
   ]
  }
 ],
 "metadata": {
  "kernelspec": {
   "display_name": "pytorch",
   "language": "python",
   "name": "python3"
  },
  "language_info": {
   "name": "python",
   "version": "3.8.12 (default, Oct 12 2021, 03:01:40) [MSC v.1916 64 bit (AMD64)]"
  },
  "orig_nbformat": 4,
  "vscode": {
   "interpreter": {
    "hash": "0c12c839adeec326d421be117b103b29d3b0068db2c28a64ae1df63f05821871"
   }
  }
 },
 "nbformat": 4,
 "nbformat_minor": 2
}
