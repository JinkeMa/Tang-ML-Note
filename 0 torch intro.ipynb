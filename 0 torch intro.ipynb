{
 "cells": [
  {
   "cell_type": "code",
   "execution_count": null,
   "metadata": {},
   "outputs": [],
   "source": [
    "# torch模块介绍\n",
    "# 主要有为了多维张量tensor而准备的数据结构\n",
    "# 以及针对多维张量运算的各种算子，矩阵乘法、element-wise乘法+比较大小等算子，还有张量的序列化(存储、加载)\n",
    "#\n",
    "# 随机数、各种tensor(zero、ones)的定义、维度操作(加、减一个维度)、\n",
    "# 张量拼接与拆分、求导、数学运算(三角函数、加减乘除、按位与/或/异或、指数、最大最小)\n",
    "# flip、线性代数、相等...\n",
    "#"
   ]
  },
  {
   "cell_type": "code",
   "execution_count": 1,
   "metadata": {},
   "outputs": [],
   "source": [
    "# torch.nn 模块\n",
    "# 包含了各种构建网络架构的building blocks\n",
    "#\n",
    "layers_all = [\n",
    "    'Containers',\n",
    "    'Convolution layers',\n",
    "    'Pooling layers',\n",
    "    'Padding layers',\n",
    "    'Non-linear Activations(weighted-sum,nonlinearity)',\n",
    "    'Non-linear Activations(other)',\n",
    "    'Normalization layers',\n",
    "    'Recurrent layers',\n",
    "    'Transformer layers',\n",
    "    'Linear layers',\n",
    "    'Droupout layers',\n",
    "    'Sparse layers',\n",
    "    'Distance functions',\n",
    "    'Loss functions',\n",
    "    'Vision layers',\n",
    "    'Shuffle layers',\n",
    "    'DataParallel layers(multi-GPU,distributed)',\n",
    "    'Utilities',\n",
    "    'Quantized functions',\n",
    "    'Lazy Modules Initilization',\n",
    "] \n",
    "# Containers\n",
    "# Convolution layers\n",
    "# Pooling layers\n",
    "# Padding layers\n",
    "# Non-linear Activations(weighted-sum,nonlinearity)\n",
    "# Non-linear Activations(other)\n",
    "# Normalization layers\n",
    "# Recurrent layers\n",
    "# Transformer layers\n",
    "# Linear layers\n",
    "# Droupout layers\n",
    "# Sparse layers\n",
    "# Distance functions\n",
    "# Loss functions\n",
    "# Vision layers\n",
    "# Shuffle layers\n",
    "# DataParallel layers(multi-GPU,distributed)\n",
    "# Utilities\n",
    "# Quantized functions\n",
    "# Lazy Modules Initilization\n",
    "# \n",
    "# "
   ]
  }
 ],
 "metadata": {
  "kernelspec": {
   "display_name": "pytorch",
   "language": "python",
   "name": "python3"
  },
  "language_info": {
   "codemirror_mode": {
    "name": "ipython",
    "version": 3
   },
   "file_extension": ".py",
   "mimetype": "text/x-python",
   "name": "python",
   "nbconvert_exporter": "python",
   "pygments_lexer": "ipython3",
   "version": "3.8.12"
  },
  "orig_nbformat": 4,
  "vscode": {
   "interpreter": {
    "hash": "0c12c839adeec326d421be117b103b29d3b0068db2c28a64ae1df63f05821871"
   }
  }
 },
 "nbformat": 4,
 "nbformat_minor": 2
}
