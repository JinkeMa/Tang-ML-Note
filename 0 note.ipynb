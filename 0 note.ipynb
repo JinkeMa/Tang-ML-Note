{
 "cells": [
  {
   "cell_type": "code",
   "execution_count": null,
   "metadata": {},
   "outputs": [],
   "source": [
    "# 控制台...>cd d:\\GitRepos\\codeVCProjects 失败\n",
    "# 在输入上述命令并Enter之后，要再输入d:以切换盘符"
   ]
  }
 ],
 "metadata": {
  "language_info": {
   "name": "python"
  },
  "orig_nbformat": 4
 },
 "nbformat": 4,
 "nbformat_minor": 2
}
