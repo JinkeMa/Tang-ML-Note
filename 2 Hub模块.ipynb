{
 "cells": [
  {
   "cell_type": "code",
   "execution_count": null,
   "metadata": {},
   "outputs": [],
   "source": [
    "# 一键调用别人训练好的模型与参数\n",
    "# Model Zoo\n",
    "# 专门放别人提出的各种模型\n",
    "# https://github.com/pytorch/hub\n",
    "import torch\n",
    "repo = 'pytorch/vision'\n",
    "torch.hub.load(repo,'resnet50',pretrained = True)"
   ]
  }
 ],
 "metadata": {
  "kernelspec": {
   "display_name": "Python 3.8.12 ('pytorch')",
   "language": "python",
   "name": "python3"
  },
  "language_info": {
   "name": "python",
   "version": "3.8.12"
  },
  "orig_nbformat": 4,
  "vscode": {
   "interpreter": {
    "hash": "0c12c839adeec326d421be117b103b29d3b0068db2c28a64ae1df63f05821871"
   }
  }
 },
 "nbformat": 4,
 "nbformat_minor": 2
}
