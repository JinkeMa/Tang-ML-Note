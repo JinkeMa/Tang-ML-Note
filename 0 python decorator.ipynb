{
 "cells": [
  {
   "cell_type": "code",
   "execution_count": null,
   "metadata": {},
   "outputs": [],
   "source": [
    "'''装饰器'''\n",
    "# 返回一个函数 可能是原函数对象 也可能是内部重新定义的\n",
    "# 装饰器的一个关键特性是,在被包装的函数定义之后立即执行,这通常是在导入python模块时\n",
    "# 例如以下registry.py\n",
    "# 在导入registry.py模块时,被装饰的fun1() fun2()会立即执行而不需要显式调用\n",
    "# 而fun3()则需要调用才会执行 因此下面的代码输出实际为:\n",
    "\n",
    "# python3 registration.py\n",
    "# running register(<function f1 at 0x100631bf8>)\n",
    "# running register(<function f2 at 0x100631c80>)\n",
    "# running main()\n",
    "# registry -> [<function f1 at 0x100631bf8>, <function f2 at 0x100631c80>]\n",
    "# running f1()\n",
    "# running f2()\n",
    "# running f3()\n",
    "\n",
    "\n",
    "registor = []\n",
    "\n",
    "def registry(fun):\n",
    "    print('running registry{}'.format(fun))\n",
    "    registor.append(fun)\n",
    "    return fun\n",
    "\n",
    "@registry\n",
    "def fun1():\n",
    "    print('running fun1()')\n",
    "\n",
    "@registry\n",
    "def fun2():\n",
    "    print('running fun2()')\n",
    "\n",
    "def fun3():\n",
    "    print('running fun3()')\n",
    "\n",
    "def main():\n",
    "    print('running main()')\n",
    "    print('registor->',registor)\n",
    "    fun1()\n",
    "    fun2()\n",
    "    fun3()\n",
    "\n",
    "if __name__ == '__main__':\n",
    "    main()\n",
    "\n",
    "# 上例装饰器与被装饰对象定义在同一个.py模块内 但是实际使用时 通常在一个.py模块中定义装饰器 \n",
    "# 然后在另一个模块中定义被装饰对象\n",
    "# 装饰器通常会在内部定义一个函数 然后将其返回以替换输入对象 而不是返回原对象"
   ]
  },
  {
   "cell_type": "code",
   "execution_count": null,
   "metadata": {},
   "outputs": [],
   "source": [
    "'''python中的变量作用域'''\n",
    "# python不要求变量声明 \n",
    "# 如下函数func(a)会把输入a打印出来 并打印全局变量b\n",
    "\n",
    "b = 6\n",
    "\n",
    "def func(a):\n",
    "    print(a)\n",
    "    print(b)\n",
    "\n",
    "func(1)"
   ]
  },
  {
   "cell_type": "code",
   "execution_count": null,
   "metadata": {},
   "outputs": [],
   "source": [
    "# 然而观察下面的函数func2(a) \n",
    "# 安装的智能插件如Pylance 会报unbound Error 执行代码也会同样结果\n",
    "'''\n",
    "也许会感到困惑,但这是Python在设计上的选择:\n",
    "Python假定 在函数定义体中<赋值>的变量是局部变量\n",
    "因此执行到print(b)这一句时,解释器发现b没有绑定值 遂报错\n",
    "'''\n",
    "\n",
    "b = 6\n",
    "\n",
    "def func2(a):\n",
    "    print(a)\n",
    "    print(b) # 然而若把此句放到b = 9之后 则不会报错 因为彼时b已经绑定值了\n",
    "    b = 9\n",
    "\n",
    "func2(1)"
   ]
  },
  {
   "cell_type": "code",
   "execution_count": null,
   "metadata": {},
   "outputs": [],
   "source": [
    "'''闭包'''\n",
    "# 闭包是指延伸了作用域的函数 其中包含函数定义体中引用 但是不在定义体中定义的非全局变量\n",
    "# 函数是不是匿名的没关系 关键是函数能够访问函数定义体之外的非全局变量\n",
    "\n"
   ]
  }
 ],
 "metadata": {
  "kernelspec": {
   "display_name": "pytorch",
   "language": "python",
   "name": "python3"
  },
  "language_info": {
   "codemirror_mode": {
    "name": "ipython",
    "version": 3
   },
   "file_extension": ".py",
   "mimetype": "text/x-python",
   "name": "python",
   "nbconvert_exporter": "python",
   "pygments_lexer": "ipython3",
   "version": "3.8.12"
  },
  "orig_nbformat": 4,
  "vscode": {
   "interpreter": {
    "hash": "0c12c839adeec326d421be117b103b29d3b0068db2c28a64ae1df63f05821871"
   }
  }
 },
 "nbformat": 4,
 "nbformat_minor": 2
}
