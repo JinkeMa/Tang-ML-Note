{
 "cells": [
  {
   "cell_type": "code",
   "execution_count": null,
   "metadata": {},
   "outputs": [],
   "source": [
    "# torch.nn.functional中有很多功能，后续会常用。那么什么是用nn.Module，什么时候用nn.functional呢\n",
    "# 一般情况下，如果 模型有可学习的参数，最好用nn.Module，其他情况用nn.functional更简单一些\n",
    "# \n"
   ]
  },
  {
   "cell_type": "code",
   "execution_count": 2,
   "metadata": {},
   "outputs": [],
   "source": [
    "import pickle\n",
    "import gzip\n",
    "from pathlib import Path\n",
    "import numpy as np\n",
    "\n",
    "datapath = Path('d:/GitRepos/data/mnist')\n",
    "path_train_image = datapath / 'train-images-idx3-ubyte.gz'\n",
    "path_train_label = datapath / 'train-labels-idx1-ubyte.gz'\n",
    "path_test_image = datapath / 't10k-images-idx3-ubyte.gz'\n",
    "path_test_label = datapath / 't10k-labels-idx1-ubyte.gz'\n",
    "\n",
    "with gzip.open(path_test_label.as_posix(),'rb') as f:\n",
    "    content = f.read()"
   ]
  }
 ],
 "metadata": {
  "kernelspec": {
   "display_name": "Python 3.8.12 64-bit",
   "language": "python",
   "name": "python3"
  },
  "language_info": {
   "codemirror_mode": {
    "name": "ipython",
    "version": 3
   },
   "file_extension": ".py",
   "mimetype": "text/x-python",
   "name": "python",
   "nbconvert_exporter": "python",
   "pygments_lexer": "ipython3",
   "version": "3.8.12"
  },
  "orig_nbformat": 4,
  "vscode": {
   "interpreter": {
    "hash": "0c12c839adeec326d421be117b103b29d3b0068db2c28a64ae1df63f05821871"
   }
  }
 },
 "nbformat": 4,
 "nbformat_minor": 2
}
