{
 "cells": [
  {
   "cell_type": "code",
   "execution_count": null,
   "metadata": {},
   "outputs": [],
   "source": [
    "# torch.nn.functional中有很多功能，后续会常用。那么什么是用nn.Module，什么时候用nn.functional呢\n",
    "# 一般情况下，如果 模型有可学习的参数，最好用nn.Module，其他情况用nn.functional更简单一些\n",
    "# \n",
    "import gzip\n",
    "import numpy as np\n",
    "\n",
    "mnist = {\n",
    "    'trainset':'d:/GitRepos/data/mnist/train-images-idx3-ubyte.gz',\n",
    "    'trainlabel':'d:/GitRepos/data/mnist/train-labels-idx1-ubyte.gz',\n",
    "    'testset':'d:/GitRepos/data/mnist/t10k-images-idx3-ubyte.gz',\n",
    "    'testlabel':'d:/GitRepos/data/mnist/t10k-labels-idx1-ubyte.gz'\n",
    "}\n",
    "\n"
   ]
  }
 ],
 "metadata": {
  "kernelspec": {
   "display_name": "Python 3.9.13 ('pytorch')",
   "language": "python",
   "name": "python3"
  },
  "language_info": {
   "name": "python",
   "version": "3.9.13"
  },
  "orig_nbformat": 4,
  "vscode": {
   "interpreter": {
    "hash": "e32618030883af29da10316c76c83da9a02f65dadf9a9b09d160d0d4f5840e5a"
   }
  }
 },
 "nbformat": 4,
 "nbformat_minor": 2
}
