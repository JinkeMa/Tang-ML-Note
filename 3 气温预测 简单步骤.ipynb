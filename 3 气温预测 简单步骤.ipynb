{
 "cells": [
  {
   "cell_type": "code",
   "execution_count": null,
   "metadata": {},
   "outputs": [],
   "source": [
    "import torch\n",
    "import torch.nn as nn\n",
    "import numpy as np\n",
    "import pandas as pd\n",
    "\n",
    "# 数据准备\n",
    "features = pd.read_csv('d:/GitRepos/')\n",
    "\n",
    "# 网络搭建\n",
    "input_size = 13\n",
    "hidden_size = 128\n",
    "output_size = 1\n",
    "mnn = nn.Sequential(\n",
    "    nn.Linear()\n",
    ")"
   ]
  }
 ],
 "metadata": {
  "language_info": {
   "name": "python"
  },
  "orig_nbformat": 4
 },
 "nbformat": 4,
 "nbformat_minor": 2
}
